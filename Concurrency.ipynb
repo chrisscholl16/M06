{
 "cells": [
  {
   "cell_type": "code",
   "execution_count": 1,
   "id": "6b7745fc",
   "metadata": {},
   "outputs": [],
   "source": [
    "\"\"\"\n",
    "Chris Scholl\n",
    "7-11-23\n",
    "13.1\n",
    "Get current date and write it into a text file today.txt\n",
    "\"\"\"\n",
    "\n",
    "import datetime\n",
    "today = datetime.date.today()\n",
    "file_ptr = open('today.txt', 'w')\n",
    "file_ptr.write(str(today))\n",
    "file_ptr.close()"
   ]
  },
  {
   "cell_type": "markdown",
   "id": "979c5feb",
   "metadata": {},
   "source": [
    "Wrote the current date and time to a text file today.txt"
   ]
  },
  {
   "cell_type": "code",
   "execution_count": 2,
   "id": "5eda4f01",
   "metadata": {},
   "outputs": [],
   "source": [
    "\"\"\"\n",
    "Chris Scholl\n",
    "7-11-23\n",
    "13.2\n",
    "Read the text file today.txt\n",
    "\"\"\"\n",
    "\n",
    "file_ptr = open('today.txt', 'r')\n",
    "today_date = file_ptr.read()\n",
    "file_ptr.close()"
   ]
  },
  {
   "cell_type": "code",
   "execution_count": 4,
   "id": "7102b1c0",
   "metadata": {},
   "outputs": [
    {
     "name": "stdout",
     "output_type": "stream",
     "text": [
      "Today is:  2023-07-11\n"
     ]
    }
   ],
   "source": [
    "\"\"\"\n",
    "Chris Scholl\n",
    "7-11-23\n",
    "13.3\n",
    "Print the date from the text file today.txt\n",
    "\"\"\"\n",
    "\n",
    "today = datetime.datetime.strptime(today_date, '%Y-%m-%d').date()\n",
    "print('Today is: ', today)"
   ]
  },
  {
   "cell_type": "markdown",
   "id": "fd5a0d0a",
   "metadata": {},
   "source": [
    "Printed the current date from the text file "
   ]
  },
  {
   "cell_type": "code",
   "execution_count": 9,
   "id": "132b5c8e",
   "metadata": {},
   "outputs": [
    {
     "name": "stdout",
     "output_type": "stream",
     "text": [
      "Today's date and time is:  2023-07-11 15:06:56.230944\n",
      "Today's date and time is:  2023-07-11 15:06:56.482174\n",
      "Today's date and time is:  2023-07-11 15:06:56.569431\n",
      "Celebrate, Job is Done!!!\n"
     ]
    }
   ],
   "source": [
    "\"\"\"\n",
    "Chris Scholl\n",
    "7-11-23\n",
    "15.1\n",
    "Use multiprocessing to run 3 processes at different times\n",
    "\"\"\"\n",
    "\n",
    "import multiprocessing\n",
    "from datetime import datetime\n",
    "import time\n",
    "import random\n",
    "\n",
    "def print_time():\n",
    "    now = datetime.now()\n",
    "    print(\"Today's date and time is: \",format(now))\n",
    "    time.sleep(random.random())\n",
    "    \n",
    "if __name__ == '__main__':\n",
    "    proc1 = multiprocessing.Process(target=print_time())\n",
    "    proc2 = multiprocessing.Process(target=print_time())\n",
    "    proc3 = multiprocessing.Process(target=print_time())\n",
    "    proc1.start()\n",
    "    proc2.start()\n",
    "    proc3.start()\n",
    "    proc1.join()\n",
    "    proc2.join()\n",
    "    proc3.join()\n",
    "    \n",
    "    print('Celebrate, Job is Done!!!')"
   ]
  },
  {
   "cell_type": "markdown",
   "id": "b24bd8ee",
   "metadata": {},
   "source": [
    "I tried to find out how to change the time to 12 hour time but couldn't figure out how to do it."
   ]
  },
  {
   "cell_type": "code",
   "execution_count": null,
   "id": "aaafaf8f",
   "metadata": {},
   "outputs": [],
   "source": []
  }
 ],
 "metadata": {
  "kernelspec": {
   "display_name": "Python 3 (ipykernel)",
   "language": "python",
   "name": "python3"
  },
  "language_info": {
   "codemirror_mode": {
    "name": "ipython",
    "version": 3
   },
   "file_extension": ".py",
   "mimetype": "text/x-python",
   "name": "python",
   "nbconvert_exporter": "python",
   "pygments_lexer": "ipython3",
   "version": "3.10.9"
  }
 },
 "nbformat": 4,
 "nbformat_minor": 5
}
